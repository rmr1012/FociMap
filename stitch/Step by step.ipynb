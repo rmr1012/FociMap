{
 "cells": [
  {
   "cell_type": "code",
   "execution_count": 15,
   "metadata": {},
   "outputs": [],
   "source": [
    "\n",
    "import matplotlib\n",
    "from matplotlib import pyplot as plt\n",
    "from ren import renAlgo\n",
    "import scipy\n",
    "import scipy.signal\n",
    "import numpy as np\n",
    "import os\n",
    "from calibrate import focal2distance\n",
    "import pickle\n",
    "import cv2\n",
    "from huHann import huHann\n",
    "import time"
   ]
  },
  {
   "cell_type": "code",
   "execution_count": 16,
   "metadata": {},
   "outputs": [],
   "source": [
    "class Timer(object):\n",
    "    def __init__(self, name=None,mute=False,stream=\"CLI\",GObj=None):\n",
    "        self.name = name\n",
    "        self.mute=mute\n",
    "\n",
    "    def __enter__(self):\n",
    "        self.tstart = time.time()\n",
    "        return self\n",
    "    \n",
    "\n",
    "    def __exit__(self, type, value, traceback):\n",
    "        if self.name and not self.mute:\n",
    "            print ('[%s]' % self.name,)\n",
    "            print ('Elapsed: %s' % (time.time() - self.tstart))\n",
    "    def lapse(self):\n",
    "        return time.time() - self.tstart\n",
    "    def toc(self,handle):\n",
    "        if not self.mute:\n",
    "            print(\"T+:%.6f ; @ %s\" % (self.lapse(),handle))\n",
    "        return self.lapse"
   ]
  },
  {
   "cell_type": "code",
   "execution_count": 19,
   "metadata": {},
   "outputs": [],
   "source": [
    "def neighbourReplace(src,size):\n",
    "    Rf=scipy.ndimage.maximum_filter(src,size=size)\n",
    "    src[np.where(src<=0.49)]= Rf[np.where(src<=0.49)]\n",
    "    return src\n",
    "\n",
    "def renAlgo(files,focal):\n",
    "    confMaps=[]\n",
    "    with Timer(\"time this\",mute=False) as tic:\n",
    "        for index, filename in enumerate(files):\n",
    "            print(filename)\n",
    "\n",
    "            im = cv2.imread(filename)\n",
    "            tic.toc(\"read files\")\n",
    "            img=im[:,:,2].astype(int)\n",
    "            blurmap=huHann(img)\n",
    "            #plt.figure()\n",
    "            #plt.imshow(blurmap,cmap=\"gray\")\n",
    "            tic.toc(\"huhanned\")\n",
    "            nmap=(8-blurmap)/8\n",
    "            tic.toc(\"normalized\")\n",
    "            #plt.figure()\n",
    "            #plt.imshow(nmap,cmap=\"gray\")\n",
    "            blur = cv2.GaussianBlur(nmap,(99,99),0)\n",
    "            blur = cv2.GaussianBlur(blur,(99,99),0) # second order\n",
    "            tic.toc(\"blurred\")\n",
    "            #plt.figure()\n",
    "            #plt.imshow(blur,cmap=\"gray\")\n",
    "            confMaps.append(blur)\n",
    "        tic.toc(\"DONE PREP\")\n",
    "\n",
    "        flatConf=np.array(confMaps)\n",
    "        \n",
    "\n",
    "        oneDepth=np.ones([len(flatConf[0,:,0]),len(flatConf[0,0,:])])\n",
    "        for row in range(len(flatConf[0,:,0])):\n",
    "            for col in range(len(flatConf[0,0,:])):\n",
    "                corr=flatConf[:,row,col]\n",
    "                maxInd=corr.argmax()\n",
    "                #print(maxInd)\n",
    "                oneDepth[row,col]=focal[maxInd]\n",
    "        tic.toc(\"done stashing\")\n",
    "        #plt.figure()\n",
    "        #plt.imshow(oneDepth,cmap=\"gray\")\n",
    "        result=255*(neighbourReplace(oneDepth,100)-min(focal))/(max(focal)-min(focal))\n",
    "        tic.toc(\"neighbouted ran\")\n",
    "        #plt.figure()\n",
    "        #plt.imshow(result,cmap=\"gray\")\n",
    "    # and renormalize\n",
    "    return result\n"
   ]
  },
  {
   "cell_type": "code",
   "execution_count": 20,
   "metadata": {},
   "outputs": [
    {
     "name": "stdout",
     "output_type": "stream",
     "text": [
      "[0.4, 0.55, 0.7, 0.72, 0.75, 0.77, 0.8, 0.85]\n",
      "8\n",
      "8\n",
      "testset2/IMG_8494.JPG\n",
      "T+:0.270909 ; @ read files\n",
      "T+:2.139214 ; @ huhanned\n",
      "T+:2.188894 ; @ normalized\n",
      "T+:5.686545 ; @ blurred\n",
      "testset2/IMG_8495.JPG\n",
      "T+:5.944972 ; @ read files\n",
      "T+:7.881536 ; @ huhanned\n",
      "T+:7.937474 ; @ normalized\n",
      "T+:12.217686 ; @ blurred\n",
      "testset2/IMG_8496.JPG\n",
      "T+:12.484337 ; @ read files\n",
      "T+:14.160159 ; @ huhanned\n",
      "T+:14.219622 ; @ normalized\n",
      "T+:17.827509 ; @ blurred\n",
      "testset2/IMG_8497.JPG\n",
      "T+:18.088808 ; @ read files\n",
      "T+:19.900395 ; @ huhanned\n",
      "T+:19.959759 ; @ normalized\n",
      "T+:23.658090 ; @ blurred\n",
      "testset2/IMG_8498.JPG\n",
      "T+:23.913027 ; @ read files\n",
      "T+:25.759295 ; @ huhanned\n",
      "T+:25.817623 ; @ normalized\n",
      "T+:29.576933 ; @ blurred\n",
      "testset2/IMG_8499.JPG\n",
      "T+:29.884727 ; @ read files\n",
      "T+:31.670284 ; @ huhanned\n",
      "T+:31.729599 ; @ normalized\n",
      "T+:35.386062 ; @ blurred\n",
      "testset2/IMG_8500.JPG\n",
      "T+:35.638554 ; @ read files\n",
      "T+:37.312537 ; @ huhanned\n",
      "T+:37.369410 ; @ normalized\n",
      "T+:40.861119 ; @ blurred\n",
      "testset2/IMG_8501.JPG\n",
      "T+:41.112717 ; @ read files\n",
      "T+:42.813024 ; @ huhanned\n",
      "T+:42.872296 ; @ normalized\n",
      "T+:46.318706 ; @ blurred\n",
      "T+:46.318857 ; @ DONE PREP\n",
      "T+:75.979648 ; @ done stashing\n",
      "T+:77.059190 ; @ neighbouted ran\n",
      "[time this]\n",
      "Elapsed: 77.05946493148804\n"
     ]
    },
    {
     "data": {
      "image/png": "[encoded data removed]",
      "text/plain": [
       "<matplotlib.figure.Figure at 0x10a73b0f0>"
      ]
     },
     "metadata": {
      "needs_background": "light"
     },
     "output_type": "display_data"
    }
   ],
   "source": [
    "focal=[0.4, 0.55, 0.7, 0.72, 0.75, 0.77, 0.8, 0.85]\n",
    "#focal=[focal2distance(x) for x in focal]\n",
    "print(focal)\n",
    "filesDir=[]\n",
    "for file in os.listdir(\"testset2\"):\n",
    "    \n",
    "    filesDir.append(\"testset2/\"+file)\n",
    "\n",
    "print(len(focal))\n",
    "print(len(filesDir))\n",
    "\n",
    "smoothDepth=renAlgo(filesDir,focal)\n",
    "\n",
    "\n",
    "plt.imshow(smoothDepth,cmap='gray')\n",
    "plt.colorbar()\n",
    "\n",
    "plt.imsave(\"newmap2.png\",smoothDepth,cmap='gray')\n"
   ]
  },
  {
   "cell_type": "code",
   "execution_count": null,
   "metadata": {},
   "outputs": [],
   "source": []
  },
  {
   "cell_type": "code",
   "execution_count": null,
   "metadata": {},
   "outputs": [],
   "source": []
  }
 ],
 "metadata": {
  "kernelspec": {
   "display_name": "Python 3",
   "language": "python",
   "name": "python3"
  },
  "language_info": {
   "codemirror_mode": {
    "name": "ipython",
    "version": 3
   },
   "file_extension": ".py",
   "mimetype": "text/x-python",
   "name": "python",
   "nbconvert_exporter": "python",
   "pygments_lexer": "ipython3",
   "version": "3.6.3"
  }
 },
 "nbformat": 4,
 "nbformat_minor": 2
}
